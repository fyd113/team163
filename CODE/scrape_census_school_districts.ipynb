{
 "cells": [
  {
   "cell_type": "code",
   "execution_count": null,
   "id": "ac860f89-7152-4ea3-a2c9-d7ecba48e2f3",
   "metadata": {},
   "outputs": [],
   "source": [
    "#set up\n",
    "import requests\n",
    "import re\n",
    "import csv\n",
    "import pandas as pd\n",
    "from bs4 import BeautifulSoup"
   ]
  },
  {
   "cell_type": "code",
   "execution_count": null,
   "id": "11923e40-1dea-423c-b0d1-afa3e45ca792",
   "metadata": {},
   "outputs": [],
   "source": [
    "#use beautiful soup to extract all states listed on 2020 Census - School District Reference Map website\n",
    "census_state_url = 'https://www2.census.gov/geo/maps/DC2020/PL20/'\n",
    "census_state_html_text = requests.get(census_state_url).text\n",
    "soup = BeautifulSoup(census_state_html_text, 'html.parser')\n",
    "states_code = []\n",
    "for link in soup.find_all('a'):\n",
    "    href = link.get('href')\n",
    "    pattern = \"^st\\d+_.{2}/$\"\n",
    "    found = re.search(pattern, str(href))\n",
    "    if found:\n",
    "        states_code.append(href[:-1])\n",
    "states_code = states_code[:51]"
   ]
  },
  {
   "cell_type": "code",
   "execution_count": null,
   "id": "1b99bbd2-7751-4cfb-85be-ff2bb56f9de8",
   "metadata": {},
   "outputs": [],
   "source": [
    "#extract all states info listed on 2020 Census - School District Reference Map website\n",
    "records = list()\n",
    "for each_state in states_code:\n",
    "    print (\"searching for \" + each_state)\n",
    "    census_each_state_url = census_state_url+each_state+'/schooldistrict_maps/'\n",
    "    census_each_state_html_text = requests.get(census_each_state_url).text\n",
    "    each_state_soup = BeautifulSoup(census_each_state_html_text, 'html.parser')\n",
    "    county_code = []\n",
    "    for link in each_state_soup.find_all('a'):\n",
    "        href = link.get('href')\n",
    "        pattern = \"^c\\d+_\\w+-?\\w+\"\n",
    "        found = re.search(pattern, str(href))\n",
    "        if found:\n",
    "            county_code.append(href[:-1])        \n",
    "    for each_county in county_code:\n",
    "            #print (\"searching for \" + each_county)\n",
    "            each_county_name_list = each_county.split('_')\n",
    "            each_county_name = ''\n",
    "            each_county_code = each_county_name_list[0]\n",
    "            for i in each_county_name_list[1:]:\n",
    "                each_county_name = each_county_name + ' ' + i\n",
    "            census_each_county_url = census_each_state_url + each_county + '/DC20SD_' + each_county.split('_')[0].replace('c', 'C')+'_SD2MS.txt'\n",
    "            census_each_county_html_text = requests.get(census_each_county_url).text\n",
    "            each_county_soup = BeautifulSoup(census_each_county_html_text, 'html.parser')\n",
    "            county_text = each_county_soup.text.split('\\n')\n",
    "            school_district_list = []\n",
    "            for item in county_text:\n",
    "                item_list = item.split(\";\")\n",
    "                if item_list[0] == \"Unified\":\n",
    "                    school_district_list.append(item_list[-3])\n",
    "            for school_district in school_district_list:\n",
    "                records.append({ \n",
    "                                'State': each_state.split('_')[1].upper(), \n",
    "                                'County_name':each_county_name.capitalize(),\n",
    "                                'County_code':each_county_code,\n",
    "                                'School_district': school_district\n",
    "                                })"
   ]
  },
  {
   "cell_type": "code",
   "execution_count": null,
   "id": "ccf7e161-430a-4ce7-b564-078608decca8",
   "metadata": {},
   "outputs": [],
   "source": [
    "#save dict as pd\n",
    "school_df = pd.DataFrame.from_dict(records)"
   ]
  },
  {
   "cell_type": "code",
   "execution_count": null,
   "id": "6481711b-b588-4f39-a67d-10875cc49b5f",
   "metadata": {},
   "outputs": [],
   "source": [
    "#convert df to csv\n",
    "school_df.to_csv('final_school_district.csv')"
   ]
  }
 ],
 "metadata": {
  "kernelspec": {
   "display_name": "Python 3 (ipykernel)",
   "language": "python",
   "name": "python3"
  },
  "language_info": {
   "codemirror_mode": {
    "name": "ipython",
    "version": 3
   },
   "file_extension": ".py",
   "mimetype": "text/x-python",
   "name": "python",
   "nbconvert_exporter": "python",
   "pygments_lexer": "ipython3",
   "version": "3.10.6"
  }
 },
 "nbformat": 4,
 "nbformat_minor": 5
}
