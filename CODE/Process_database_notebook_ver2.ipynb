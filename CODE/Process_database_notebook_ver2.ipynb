{
 "cells": [
  {
   "cell_type": "code",
   "execution_count": 2,
   "metadata": {},
   "outputs": [],
   "source": [
    "from pyspark.sql import SparkSession\n",
    "from pyspark.sql import SQLContext\n",
    "import pandas\n",
    "\n",
    "# Spark session & context\n",
    "spark = SparkSession.builder.master('local[16]').getOrCreate()\n",
    "sc = spark.sparkContext\n",
    "s = SQLContext(sc)"
   ]
  },
  {
   "cell_type": "code",
   "execution_count": 3,
   "metadata": {},
   "outputs": [],
   "source": [
    "def load_data(path):\n",
    "    df = s.read.option(\"header\",True).csv(path)\n",
    "    return df"
   ]
  },
  {
   "cell_type": "markdown",
   "metadata": {},
   "source": [
    "## Select required columns from individual ACS tables"
   ]
  },
  {
   "cell_type": "code",
   "execution_count": 4,
   "metadata": {},
   "outputs": [],
   "source": [
    "b01 = load_data(\"cbg_b01.csv\")\n",
    "b01.createOrReplaceTempView('tb01')\n",
    "b01data = s.sql(\"select census_block_group as geoid, \\\n",
    "B01001e2 as male, B01001e26 as female, (case when B01001e2 = 0 then 0 else round(B01001e26/B01001e2,2) end) as sex_ratio, B01002e1 as median_age, B01003e1 as pop \\\n",
    "from tb01;\")\n",
    "\n",
    "del b01\n",
    "b01data.createOrReplaceTempView('b01t')\n",
    "# b01data.toPandas().to_csv('b01data.csv')"
   ]
  },
  {
   "cell_type": "code",
   "execution_count": 5,
   "metadata": {},
   "outputs": [],
   "source": [
    "b02 = load_data(\"cbg_b02.csv\")\n",
    "b02.createOrReplaceTempView(\"tb02\")\n",
    "b02data = s.sql(\"select census_block_group as geoid, \\\n",
    "B02001e2 as white, \\\n",
    "B02001e3 as black, \\\n",
    "B02001e5 as asian, \\\n",
    "B02011e1 as asian_with_others from tb02;\")\n",
    "\n",
    "del b02\n",
    "b02data.createOrReplaceTempView('b02t')\n",
    "# b02data.toPandas().to_csv('b02data.csv')"
   ]
  },
  {
   "cell_type": "code",
   "execution_count": 6,
   "metadata": {},
   "outputs": [],
   "source": [
    "b03 = load_data(\"cbg_b03.csv\")\n",
    "b03.createOrReplaceTempView('tb03')\n",
    "b03data = s.sql(\"select census_block_group as geoid, \\\n",
    "B03003e3 as hispanic \\\n",
    "from tb03\")\n",
    "\n",
    "del b03\n",
    "b03data.createOrReplaceTempView('b03t')\n",
    "# b03data.toPandas().to_csv('b03data.csv')"
   ]
  },
  {
   "cell_type": "code",
   "execution_count": 7,
   "metadata": {},
   "outputs": [],
   "source": [
    "b19 = load_data(\"cbg_b19.csv\")\n",
    "b19.createOrReplaceTempView('tb19')\n",
    "b19data = s.sql(\"select census_block_group as geoid, \\\n",
    "B19301e1 as income_per_capita \\\n",
    "from tb19\")\n",
    "\n",
    "del b19\n",
    "b19data.createOrReplaceTempView('b19t')\n",
    "# b19data.toPandas().to_csv('b19data.csv')"
   ]
  },
  {
   "cell_type": "code",
   "execution_count": 8,
   "metadata": {},
   "outputs": [],
   "source": [
    "b25 = load_data(\"cbg_b25.csv\")\n",
    "b25.createOrReplaceTempView('tb25')\n",
    "b25data = s.sql(\"select census_block_group as geoid, \\\n",
    "B25077e1 as median_value_owner_occupied_housing_unit \\\n",
    "from tb25\")\n",
    "\n",
    "del b25\n",
    "b25data.createOrReplaceTempView('b25t')\n",
    "# b19data.toPandas().to_csv('b19data.csv')"
   ]
  },
  {
   "cell_type": "markdown",
   "metadata": {},
   "source": [
    "## Grocery dataset (cleaned in OpenRefine)"
   ]
  },
  {
   "cell_type": "code",
   "execution_count": 9,
   "metadata": {},
   "outputs": [],
   "source": [
    "path = r\"C:\\Users\\Pankaj\\Documents\\GitHub\\CSE6242\\Group_project\\Individual_datasets\\2017-Grocery-2017-Grocery-cleaned OpenRefine.csv\"\n",
    "grocery_data = load_data(path)\n",
    "grocery_data.createOrReplaceTempView('grocery_data')\n",
    "grocery_filtered = s.sql(\"select geoid_tract, popden_grocery, popden_specialtyFood from grocery_data\")\n",
    "grocery_filtered.createOrReplaceTempView('grocery')"
   ]
  },
  {
   "cell_type": "markdown",
   "metadata": {},
   "source": [
    "## Crime dataset  (cleaned in OpenRefine)"
   ]
  },
  {
   "cell_type": "code",
   "execution_count": 10,
   "metadata": {},
   "outputs": [],
   "source": [
    "path = r\"C:\\Users\\Pankaj\\Documents\\GitHub\\CSE6242\\Group_project\\Individual_datasets\\crime-data-w-population-cleaned OpenRefine.csv\"\n",
    "crime_data = load_data(path)\n",
    "crime_data.createOrReplaceTempView('crime_data')\n",
    "crime_filtered = s.sql(\"select geoid_county, crime_rate_per_100000 from crime_data\")\n",
    "crime_filtered.createOrReplaceTempView('crime')"
   ]
  },
  {
   "cell_type": "markdown",
   "metadata": {},
   "source": [
    "## Parks dataset  (cleaned in OpenRefine)"
   ]
  },
  {
   "cell_type": "code",
   "execution_count": 11,
   "metadata": {},
   "outputs": [],
   "source": [
    "path = r\"C:\\Users\\Pankaj\\Documents\\GitHub\\CSE6242\\Group_project\\Individual_datasets\\nanda-parks-tract-2018-01P-cleaned OpenRefine.csv\"\n",
    "parks_data = load_data(path)\n",
    "parks_data.createOrReplaceTempView('parks_data')\n",
    "parks_filtered = s.sql(\"select geoid_tract, count_open_parks from parks_data\")\n",
    "parks_filtered.createOrReplaceTempView('parks')"
   ]
  },
  {
   "cell_type": "markdown",
   "metadata": {},
   "source": [
    "## State and County names"
   ]
  },
  {
   "cell_type": "code",
   "execution_count": 45,
   "metadata": {},
   "outputs": [],
   "source": [
    "path = r\"C:\\Users\\Pankaj\\Documents\\GitHub\\CSE6242\\Group_project\\census_data_2019\\data\\cbg_fips_codes.csv\"\n",
    "names_data = load_data(path)\n",
    "names_data.createOrReplaceTempView('names_data')\n",
    "\n",
    "state_names = s.sql(\"select distinct state, state_fips from names_data\")\n",
    "state_names.createOrReplaceTempView('state_names')\n",
    "state_names.toPandas().to_csv('state_names.csv')\n",
    "\n",
    "county_names = s.sql(\"select state_fips, county_fips, state_fips||county_fips as geoid_till_county, county from names_data\")\n",
    "county_names.createOrReplaceTempView('county_names')\n",
    "county_names.toPandas().to_csv('county_names.csv')"
   ]
  },
  {
   "cell_type": "markdown",
   "metadata": {},
   "source": [
    "## Inner join the tables"
   ]
  },
  {
   "cell_type": "code",
   "execution_count": 46,
   "metadata": {},
   "outputs": [],
   "source": [
    "main = s.sql(\"select b01t.geoid, \\\n",
    "substr(b01t.geoid, 1, 2) as state_id, \\\n",
    "state_names.state as state, \\\n",
    "substr(b01t.geoid, 3, 3) as county_id, \\\n",
    "county_names.county as county, \\\n",
    "substr(b01t.geoid, 6, 6) as tract_id, \\\n",
    "substr(b01t.geoid, 12, 1) as block_group_id, \\\n",
    "sex_ratio, median_age, pop, \\\n",
    "round(power(((power((white - ((white+black+asian+hispanic)/4)),2) \\\n",
    "+ power((white - ((white+black+asian+hispanic)/4)),2) \\\n",
    "+ power((white - ((white+black+asian+hispanic)/4)),2) \\\n",
    "+ power((white - ((white+black+asian+hispanic)/4)),2) )/4),-0.5),5) as racial_diversity, \\\n",
    "income_per_capita, \\\n",
    "median_value_owner_occupied_housing_unit, \\\n",
    "popden_grocery, popden_specialtyFood, \\\n",
    "round(crime_rate_per_100000,2) as crime_rate_per_100000, \\\n",
    "count_open_parks \\\n",
    "from b01t \\\n",
    "inner join b02t on b01t.geoid = b02t.geoid \\\n",
    "inner join b03t on b02t.geoid = b03t.geoid \\\n",
    "inner join b19t on b03t.geoid = b19t.geoid \\\n",
    "inner join b25t on b19t.geoid = b25t.geoid \\\n",
    "inner join grocery on substr(b01t.geoid, 1, 11) = grocery.geoid_tract \\\n",
    "inner join crime on substr(b01t.geoid, 1, 5) = crime.geoid_county \\\n",
    "inner join parks on substr(b01t.geoid, 1, 11) = parks.geoid_tract \\\n",
    "inner join state_names on substr(b01t.geoid, 1, 2) = state_names.state_fips \\\n",
    "inner join county_names on substr(b01t.geoid, 1, 5) = county_names.geoid_till_county \\\n",
    "\")\n",
    "main.createOrReplaceTempView('main')"
   ]
  },
  {
   "cell_type": "markdown",
   "metadata": {},
   "source": [
    "## Visualize the final table"
   ]
  },
  {
   "cell_type": "code",
   "execution_count": 47,
   "metadata": {
    "scrolled": false
   },
   "outputs": [
    {
     "name": "stdout",
     "output_type": "stream",
     "text": [
      "root\n",
      " |-- geoid: string (nullable = true)\n",
      " |-- state_id: string (nullable = true)\n",
      " |-- state: string (nullable = true)\n",
      " |-- county_id: string (nullable = true)\n",
      " |-- county: string (nullable = true)\n",
      " |-- tract_id: string (nullable = true)\n",
      " |-- block_group_id: string (nullable = true)\n",
      " |-- sex_ratio: double (nullable = true)\n",
      " |-- median_age: string (nullable = true)\n",
      " |-- pop: string (nullable = true)\n",
      " |-- racial_diversity: double (nullable = true)\n",
      " |-- income_per_capita: string (nullable = true)\n",
      " |-- median_value_owner_occupied_housing_unit: string (nullable = true)\n",
      " |-- popden_grocery: string (nullable = true)\n",
      " |-- popden_specialtyFood: string (nullable = true)\n",
      " |-- crime_rate_per_100000: double (nullable = true)\n",
      " |-- count_open_parks: string (nullable = true)\n",
      "\n",
      "+------------+--------+-----+---------+--------------+--------+--------------+---------+----------+----+----------------+-----------------+----------------------------------------+--------------+--------------------+---------------------+----------------+\n",
      "|       geoid|state_id|state|county_id|        county|tract_id|block_group_id|sex_ratio|median_age| pop|racial_diversity|income_per_capita|median_value_owner_occupied_housing_unit|popden_grocery|popden_specialtyFood|crime_rate_per_100000|count_open_parks|\n",
      "+------------+--------+-----+---------+--------------+--------+--------------+---------+----------+----+----------------+-----------------+----------------------------------------+--------------+--------------------+---------------------+----------------+\n",
      "|010010201001|      01|   AL|      001|Autauga County|  020100|             1|     1.49|      43.3| 730|         0.00226|            29368|                                   85000|             0|                   0|                251.6|               3|\n",
      "|010010201002|      01|   AL|      001|Autauga County|  020100|             2|     1.06|      38.2|1263|         0.00129|            32298|                                  159500|             0|                   0|                251.6|               3|\n",
      "|010010202001|      01|   AL|      001|Autauga County|  020200|             1|     1.12|      38.7| 835|         0.01375|            15386|                                  100700|     0.4604052|                   0|                251.6|               2|\n",
      "|010010202002|      01|   AL|      001|Autauga County|  020200|             2|     0.69|      42.9|1124|         0.00477|            24796|                                   86300|     0.4604052|                   0|                251.6|               2|\n",
      "|010010203001|      01|   AL|      001|Autauga County|  020300|             1|     0.95|      37.3|2774|          8.4E-4|            25546|                                  115700|      0.295421|                   0|                251.6|               2|\n",
      "+------------+--------+-----+---------+--------------+--------+--------------+---------+----------+----+----------------+-----------------+----------------------------------------+--------------+--------------------+---------------------+----------------+\n",
      "only showing top 5 rows\n",
      "\n"
     ]
    }
   ],
   "source": [
    "main.printSchema()\n",
    "main.show(5)"
   ]
  },
  {
   "cell_type": "markdown",
   "metadata": {},
   "source": [
    "## Write final table to csv"
   ]
  },
  {
   "cell_type": "code",
   "execution_count": 54,
   "metadata": {},
   "outputs": [],
   "source": [
    "main.toPandas().to_csv('main_table_geoid.csv')"
   ]
  }
 ],
 "metadata": {
  "kernelspec": {
   "display_name": "Python 3 (ipykernel)",
   "language": "python",
   "name": "python3"
  },
  "language_info": {
   "codemirror_mode": {
    "name": "ipython",
    "version": 3
   },
   "file_extension": ".py",
   "mimetype": "text/x-python",
   "name": "python",
   "nbconvert_exporter": "python",
   "pygments_lexer": "ipython3",
   "version": "3.7.15"
  }
 },
 "nbformat": 4,
 "nbformat_minor": 2
}
